{
 "cells": [
  {
   "cell_type": "markdown",
   "metadata": {},
   "source": [
    "Import some libraries"
   ]
  },
  {
   "cell_type": "code",
   "execution_count": 5,
   "metadata": {},
   "outputs": [],
   "source": [
    "%matplotlib inline\n",
    "import pandas as pd\n",
    "import numpy as np\n",
    "import matplotlib.pyplot as plt\n",
    "import seaborn as sns\n",
    "from sklearn.svm import SVC\n",
    "import mglearn as mglearn\n",
    "from sklearn.neighbors import KNeighborsClassifier\n",
    "from sklearn.model_selection import GridSearchCV\n",
    "from sklearn.model_selection import train_test_split\n",
    "from sklearn.ensemble import RandomForestClassifier\n",
    "\n",
    "import seaborn as sns\n",
    "sns.set_style(\"darkgrid\")\n",
    "import warnings\n",
    "warnings.filterwarnings(\"ignore\")"
   ]
  },
  {
   "cell_type": "raw",
   "metadata": {},
   "source": [
    "1 Manual Search\n",
    "Tinh chỉnh tham số cho mô hinh theo phương pháp này được tiến hành như sau:\n",
    "    1. Lấy ra ra một số giá trị của tham số (hoặc các sự kết hợp nào đó của các tham số)\n",
    "    2. Ứng với mỗi giá trị của tham số chúng ta huấn luyện mô hình trên cùng bộ dữ liệu train\n",
    "    3. Kiểm tra ngược lại độ chính xác của mô hình trên cùng bộ dữ liệu test để đánh giá xem với giá trị nào của tham số thì khả năng dự báo của mô hình là tốt nhất.\n",
    "    "
   ]
  },
  {
   "cell_type": "code",
   "execution_count": null,
   "metadata": {},
   "outputs": [],
   "source": [
    "df_bank = pd.read_csv('x_bank.csv')"
   ]
  },
  {
   "cell_type": "code",
   "execution_count": null,
   "metadata": {},
   "outputs": [],
   "source": [
    "#df_bank.head(n=3)"
   ]
  },
  {
   "cell_type": "code",
   "execution_count": null,
   "metadata": {},
   "outputs": [],
   "source": [
    "# Bỏ biến ID và ZIP Code: \n",
    "my_df_binary = df_bank.drop([\"ID_Customer\", \"ZIP Code\"], axis=1)"
   ]
  },
  {
   "cell_type": "code",
   "execution_count": null,
   "metadata": {},
   "outputs": [],
   "source": [
    "my_df_binary.head(n=5)"
   ]
  },
  {
   "cell_type": "code",
   "execution_count": null,
   "metadata": {},
   "outputs": [],
   "source": [
    "Y = my_df_binary[\"CreditCard\"].transpose()\n",
    "X = my_df_binary.drop(\"CreditCard\", 1)"
   ]
  },
  {
   "cell_type": "code",
   "execution_count": null,
   "metadata": {},
   "outputs": [],
   "source": [
    "#Chia train test theo tỷ lệ 70-30\n",
    "X_train, X_test, y_train, y_test = train_test_split(X, Y, test_size = 0.3, stratify=Y)"
   ]
  },
  {
   "cell_type": "code",
   "execution_count": null,
   "metadata": {},
   "outputs": [],
   "source": [
    "\n",
    "mglearn.plots.plot_knn_classification(n_neighbors=1)\n",
    "plt.title(\"Figure 1: Mô hình KNN khi K = 1\")"
   ]
  },
  {
   "cell_type": "code",
   "execution_count": null,
   "metadata": {},
   "outputs": [],
   "source": [
    "mglearn.plots.plot_knn_classification(n_neighbors=3)\n",
    "plt.title(\"Figure 2: Mô hình KNN khi K = 3\")"
   ]
  },
  {
   "cell_type": "code",
   "execution_count": null,
   "metadata": {},
   "outputs": [],
   "source": [
    "def get_accuracy_k(k_selected):\n",
    "    \n",
    "    # Huấn luyện KNN model với k được chọn: \n",
    "    knn_k = KNeighborsClassifier(n_neighbors = k_selected)\n",
    "    knn_k.fit(X_train, y_train)\n",
    "    \n",
    "    # Sử dụng KNN cho dự báo và tính Accuracy: \n",
    "    y_pred = knn_k.predict(X_test)\n",
    "    acc = np.mean(y_pred == y_test)\n",
    "    return(acc)"
   ]
  },
  {
   "cell_type": "raw",
   "metadata": {},
   "source": [
    "Với K = 1 thì chúng ta có sẽ có kết quả sẽ là 0.95"
   ]
  },
  {
   "cell_type": "code",
   "execution_count": null,
   "metadata": {},
   "outputs": [],
   "source": [
    "get_accuracy_k(k_selected=1)"
   ]
  },
  {
   "cell_type": "code",
   "execution_count": null,
   "metadata": {},
   "outputs": [],
   "source": [
    "def get_accuracy_k(k_selected):\n",
    "    knn_k = KNeighborsClassifier(n_neighbors = k_selected)\n",
    "    knn_k.fit(X_train, y_train)\n",
    "    y_pred = knn_k.predict(X_test)\n",
    "    accuracy = np.mean(y_pred == y_test)\n",
    "    return(accuracy)"
   ]
  },
  {
   "cell_type": "code",
   "execution_count": null,
   "metadata": {},
   "outputs": [],
   "source": [
    "for k in np.arange(1,4):\n",
    "    print(f'The accuracy: {get_accuracy_k(k_selected=k)}')"
   ]
  },
  {
   "cell_type": "markdown",
   "metadata": {},
   "source": [
    "Các kết quả trên cho thấy Accuracy thay đổi theo K. Để khảo sát chất lượng phân lọai của mô hình KNN chúng ta có thể khảo sát các giá trị lẻ của K từ 1 đến 34 rồi tính toán Accuracy tương ứng như sau:"
   ]
  },
  {
   "cell_type": "code",
   "execution_count": null,
   "metadata": {},
   "outputs": [],
   "source": [
    "#Chọn ra các giả trị có thể của k\n",
    "k = [1, 3, 5, 7, 9, 11, 13, 15, 17, 19, 21, 23, 25, 27, 29, 31, 33, 35, 37, 39, 41, 43, 45]\n",
    "testing_accuracy = []\n",
    "\n",
    "for i in k:\n",
    "    acc = get_accuracy_k(k_selected=i)\n",
    "    testing_accuracy.append(acc)"
   ]
  },
  {
   "cell_type": "code",
   "execution_count": null,
   "metadata": {},
   "outputs": [],
   "source": [
    "#Print ra 5 kết quả đầu tiên\n",
    "testing_accuracy[0:5]"
   ]
  },
  {
   "cell_type": "code",
   "execution_count": null,
   "metadata": {},
   "outputs": [],
   "source": [
    "#Accuracy như thế nào khi k thay đổi\n",
    "f_result = {'k': k, 'Average Accuracy': testing_accuracy}\n",
    "sns.pointplot(x='k', y=\"Average Accuracy\", data=df_result)\n",
    "plt.title('Average Accuracy based on 5-Fold Cross Validation')"
   ]
  },
  {
   "cell_type": "markdown",
   "metadata": {},
   "source": [
    "Ở đây, k có thể chưa tối ưu. Vì rằng những gì chúng ta thấy ở trên mới chỉ dựa trên một mẫu số liệu. Mẫu số liệu này tương ứng với lựa chọn random_state = 29. Nếu chọn, ví dụ, random_state = 66 thì kết quả lại cho thấy khi K = 6 thì Accuracy sẽ là cao nhất"
   ]
  },
  {
   "cell_type": "markdown",
   "metadata": {},
   "source": [
    "knn31 = KNeighborsClassifier(n_neighbors=31)\n",
    "knn31.fit(X_train, y_train).score(X_test, y_test)"
   ]
  },
  {
   "cell_type": "markdown",
   "metadata": {},
   "source": [
    "Thử nghiệm lại với bộ dữ liệu train và test data khác: "
   ]
  },
  {
   "cell_type": "code",
   "execution_count": null,
   "metadata": {},
   "outputs": [],
   "source": [
    "\n",
    "X_train, X_test, y_train, y_test = train_test_split(X, Y, test_size = 0.4, random_state = 88, stratify = Y)\n",
    "\n",
    "testing_accuracy = []\n",
    "\n",
    "for i in k:  \n",
    "    acc = get_accuracy_k(k_selected = i)   \n",
    "    testing_accuracy.append(acc)\n",
    "     \n",
    "df_results = {\"K\": k, \"Accuracy\": testing_accuracy}\n",
    "sns.pointplot(x=\"K\", y=\"Accuracy\", data = df_results)\n",
    "plt.title(\"Figure 4: Accuracy vs K khi random_state = 88\")"
   ]
  },
  {
   "cell_type": "markdown",
   "metadata": {},
   "source": [
    "best_score5 = 0\n",
    "\n",
    "for gamma in [0.001, 0.1, 1, 10, 100]:\n",
    "    for C in [0.001, 0.1, 1, 10, 100]:\n",
    "        my_svm = SVC(gamma=gamma, C=C)\n",
    "        score_5Fold = cross_val_score(my_svm, X_train, y_train, cv=5)\n",
    "        \n",
    "        mean_score = np.mean(score_5Fold)\n",
    "        \n",
    "        if mean_score > best_score5:\n",
    "            best_score5 = mean_score\n",
    "            best_parameter_5Fold = {\"C\":C, 'gamma':gamma}"
   ]
  },
  {
   "cell_type": "code",
   "execution_count": null,
   "metadata": {},
   "outputs": [],
   "source": [
    "X_train, X_test, y_train, y_test = train_test_split(X, Y, test_size = 0.4, random_state = 88, stratify = Y)\n",
    "\n",
    "testing_accuracy = []\n",
    "\n",
    "# Viết vòng lặp for loop tính toán Accuracy tương ứng với một giá trị của K: \n",
    "for i in k:  \n",
    "    acc = get_accuracy_k(k_selected = i)   \n",
    "    testing_accuracy.append(acc)\n",
    "     \n",
    "df_results = {\"K\": k, \"Accuracy\": testing_accuracy}\n",
    "sns.pointplot(x=\"K\", y=\"Accuracy\", data = df_results)\n",
    "plt.title(\"Figure 4: Accuracy vs K khi random_state = 88\")"
   ]
  },
  {
   "cell_type": "markdown",
   "metadata": {},
   "source": [
    "2. Tinh chỉnh tham số bằng K Fold Cross-Validation"
   ]
  },
  {
   "cell_type": "markdown",
   "metadata": {},
   "source": [
    "Đây là một cách tiếp cận phổ biến để tinh chỉnh tham số của các mô hình học máy. Để minh họa chúng ta xét 5 Fold Cross-Validation"
   ]
  },
  {
   "cell_type": "code",
   "execution_count": null,
   "metadata": {},
   "outputs": [],
   "source": [
    "#5 Fold Cross-Validation\n",
    "mglearn.plots.plot_cross_validation()"
   ]
  },
  {
   "cell_type": "markdown",
   "metadata": {},
   "source": [
    "\n",
    "Ở đây bộ dữ liệu ban đầu sẽ được chia thành 5 phần bằng nhau. Bốn trong số năm phần dữ liệu này sẽ được sử dụng để xây dựng mô hình và phần dữ liệu còn lại sẽ được sử dụng để kiểm tra ngược lại chất lượng của mô hình. Theo phương pháp 5 Fold Cross-Validation thì chúng ta sẽ có 5 giá trị tương ứng của, Accuracy nếu chọn tiêu chí này để đánh giá mô hình!"
   ]
  },
  {
   "cell_type": "code",
   "execution_count": null,
   "metadata": {},
   "outputs": [],
   "source": [
    "#Thực hiện 5 Fold Cross-Validation cho KNN với K = 3\n",
    "knn1 = KNeighborsClassifier(n_neighbors=3)\n",
    "from sklearn.model_selection import cross_val_score\n",
    "score_from_cross_validation = cross_val_score(knn1,X,Y, cv=5, scoring='accuracy')\n",
    "print(score_from_cross_validation)"
   ]
  },
  {
   "cell_type": "code",
   "execution_count": null,
   "metadata": {},
   "outputs": [],
   "source": [
    "#Xem 5 giá trị của Accuaracy với k=3\n",
    "get_average_acc(k_selected=3)"
   ]
  },
  {
   "cell_type": "markdown",
   "metadata": {},
   "source": [
    "Để hỗ trợ quá trình tinh chỉnh tham số cho KNN, ta cần 1 function trả về trung bình Accuracy tương ứng với một giá trị được chọn của K khi sử dụng 5 Fold Cross-Validation với điều kiện: scoring=\"accuracy\"."
   ]
  },
  {
   "cell_type": "code",
   "execution_count": null,
   "metadata": {},
   "outputs": [],
   "source": [
    "def get_average_acc(k_selected):\n",
    "    knn = KNeighborsClassifier(n_neighbors=k_selected)\n",
    "    acc_5Fold = cross_val_score(knn, X, Y, cv=5)\n",
    "    acc = acc_5Fold.mean()\n",
    "    return(acc)"
   ]
  },
  {
   "cell_type": "markdown",
   "metadata": {},
   "source": [
    "Tính toán trung bình Accuracy tương ứng với một giá trị của K: "
   ]
  },
  {
   "cell_type": "code",
   "execution_count": null,
   "metadata": {},
   "outputs": [],
   "source": [
    "avg_acc = []\n",
    "\n",
    "for i in k:\n",
    "    acc_mean = get_average_acc(k_selected=i)\n",
    "    avg_acc.append(acc_mean)"
   ]
  },
  {
   "cell_type": "markdown",
   "metadata": {},
   "source": [
    "Có thể tìm k để mô hình đạt accuracy cao nhất, theo cách này >>"
   ]
  },
  {
   "cell_type": "code",
   "execution_count": null,
   "metadata": {},
   "outputs": [],
   "source": [
    "df_result_5Fold = {\"K\":k, \"Avg_Acc\": avg_acc}\n",
    "sns.pointplot(x=\"K\", y = \"Avg_Acc\", data=df_result_5Fold)\n",
    "plt.title('The Accuracy of model when K_Fold = 5')\n",
    "print(f'The Maximum value of Accuracy: {np.max(avg_acc)}')"
   ]
  },
  {
   "cell_type": "markdown",
   "metadata": {},
   "source": [
    "Có thể print ra max accuracy"
   ]
  },
  {
   "cell_type": "code",
   "execution_count": null,
   "metadata": {},
   "outputs": [],
   "source": [
    "print(f'Optimized accuracy is {np.max(avg_accuracy)}'"
   ]
  },
  {
   "cell_type": "markdown",
   "metadata": {},
   "source": [
    "Sử dụng kết quả trên, chúng ta có thể train lại KNN với k = 9, và đánh giá lại độ chính xác trên test"
   ]
  },
  {
   "cell_type": "code",
   "execution_count": null,
   "metadata": {},
   "outputs": [],
   "source": [
    "knn_31 = KNeighborsClassifier(n_neighbors=31)\n",
    "knn_31.fit(X_train,y_train).score(X_test,y_test)"
   ]
  },
  {
   "cell_type": "markdown",
   "metadata": {},
   "source": [
    "3. Manul Search with multiple parameters"
   ]
  },
  {
   "cell_type": "markdown",
   "metadata": {},
   "source": [
    "Tinh chỉnh tham số theo cách tiếp cận Grid Search chính là tìm ra sự kết hợp nào của các tham số sẽ làm cho mô hình có chất lượng dự báo tốt nhất"
   ]
  },
  {
   "cell_type": "code",
   "execution_count": null,
   "metadata": {},
   "outputs": [],
   "source": [
    "#Set up ngưỡng chọn:\n",
    "best_score = 0\n",
    "\n",
    "for gamma in [0.001, 0.1, 1, 10, 100]:\n",
    "    for C in [0.001, 0.1, 1, 10, 100]:\n",
    "        \n",
    "        #tùy chỉnh và tính toán accuracy:\n",
    "        my_svm = SVC(gamma=gamma, C=C)\n",
    "        score = my_svm.fit(X_train, y_train).score(X_test, y_test)\n",
    "        \n",
    "        if score > best_score:\n",
    "            best_score = score\n",
    "            best_parameter = {\"C\":C, 'gamma':gamma}"
   ]
  },
  {
   "cell_type": "code",
   "execution_count": null,
   "metadata": {},
   "outputs": [],
   "source": [
    "print(f'Best Score: {best_score}')\n",
    "print(f'Best Parameter: {best_parameter}')"
   ]
  },
  {
   "cell_type": "code",
   "execution_count": null,
   "metadata": {},
   "outputs": [],
   "source": [
    "best_svm1 = SVC(**best_parameter)\n",
    "best_svm1.fit(X_train,y_train).score(X_test,y_test)"
   ]
  },
  {
   "cell_type": "markdown",
   "metadata": {},
   "source": [
    "\n",
    "Phải chăng gamma = 0.001, C = 100 sẽ có Accuracy = 95% có phải là sự kết hợp tối ưu của tham số không? Câu trả lời là: có thể không phải. Đơn giản và cũng giống như Manual Seach cho KNN mà chúng ta đã biết ở mục 1, kết quả ở trên chỉ là tương ứng với một mẫu dữ liệu và do vậy chúng ta chưa thể tổng quát hóa kết luận rằng sự kết hợp tối ưu của các tham số là gamma = 0.001, C = 100. Để tự tin hơn về giá trị tối ưu cho tham số chúng ta phải kết hợp với phương pháp Cross-Validation:"
   ]
  },
  {
   "cell_type": "code",
   "execution_count": null,
   "metadata": {},
   "outputs": [],
   "source": [
    "best_score_5fold = 0\n",
    "\n",
    "for gamma in [0.001, 0.1, 1, 10, 100]:\n",
    "    for C in [0.001, 0.1, 1, 10, 100]:\n",
    "        \n",
    "        my_svm = SVC(gamma=gamma, C=C)\n",
    "        score_5Fold = cross_val_score(my_svm, X_train, y_train, cv=5)\n",
    "        mean_score = np.mean(score_5Fold)\n",
    "        \n",
    "        if mean_score > best_score_5fold:\n",
    "            best_score_5fold = mean_score\n",
    "            best_parameter_5Fold = {\"C\":C, 'gamma':gamma}"
   ]
  },
  {
   "cell_type": "code",
   "execution_count": null,
   "metadata": {},
   "outputs": [],
   "source": [
    "print(f'Best Parameter: {best_parameter_5Fold}')\n",
    "print(f'Best score from 5 Fold Cross Validation: {best_score_5fold.round(2)}')"
   ]
  },
  {
   "cell_type": "markdown",
   "metadata": {},
   "source": [
    "Chúng ta sẽ train lai mô hình với C và gamma tối ưu vừa tìm được ở trên và sử dụng mô hình có được với test data để đánh giá chất lượng."
   ]
  },
  {
   "cell_type": "code",
   "execution_count": null,
   "metadata": {},
   "outputs": [],
   "source": [
    "#train lại SVM\n",
    "best_svm2 = SVC(**best_parameter_5Fold)\n",
    "#tính lại accuracy trên test\n",
    "best_svm2.fit(X_train,y_train).score(X_test,y_test)"
   ]
  },
  {
   "cell_type": "markdown",
   "metadata": {},
   "source": [
    "Chúng ta có thể sử dụng sklearn để hỗ trợ việc tùy chỉnh tham số theo GridSearchCV:"
   ]
  },
  {
   "cell_type": "code",
   "execution_count": null,
   "metadata": {},
   "outputs": [],
   "source": [
    "#Defind paramaters grid cho mô hình\n",
    "parameters_grid = {'C': [0.001, 0.01, 0.1, 1, 10, 100], \"gamma\": [0.001, 0.01, 0.1, 1, 10, 100]}\n",
    "#Set up strategies tùy chỉnh tham số\n",
    "grid_search_cv = GridSearchCV(SVC(), parameters_grid, cv=5)\n",
    "grid_search_cv.fit(X_train, y_train)"
   ]
  },
  {
   "cell_type": "markdown",
   "metadata": {},
   "source": [
    "4. Phân tich Grid Search CV"
   ]
  },
  {
   "cell_type": "markdown",
   "metadata": {},
   "source": [
    "Chúng ta sẽ quan tâm tới chất lượng của mô hình thông qua các yếu tố như: Mô hình ML được chọn và dữ liệu được dùng để train. Chúng ta có thể phân tích vai trò cũng như ảnh hưởng của các tham số  bằng các công cụ như: biểu đồ tương quan giữa C và gamma."
   ]
  },
  {
   "cell_type": "code",
   "execution_count": null,
   "metadata": {},
   "outputs": [],
   "source": [
    "results = pd.DataFrame(grid_search_cv.cv_results_)\n",
    "score = np.array(results.mean_test_score).reshape(6,6)"
   ]
  },
  {
   "cell_type": "code",
   "execution_count": null,
   "metadata": {},
   "outputs": [],
   "source": [
    "#Heatmap biểu diễn sự thay đổi của Accuracy khi C và gamma thay đổi\n",
    "mglearn.tools.heatmap(score, xlabel=\"gamma\", xticklabels=parameters_grid['gamma'],\n",
    "                    ylabel='C', yticklabels=parameters_grid['C'], cmap='viridis')"
   ]
  },
  {
   "cell_type": "code",
   "execution_count": null,
   "metadata": {},
   "outputs": [],
   "source": [
    "fig, axes = plt.subplots(1,3, figsize=(13,3))\n",
    "\n",
    "param_grid_linear = {'C': np.linspace(1,2,6), 'gamma': np.linspace(1,2,6)}\n",
    "param_grid_one_log = {'C': np.linspace(1,2,6), 'gamma': np.logspace(-3,2,6)}\n",
    "param_grid_range = {'C': np.logspace(-3,2,6), 'gamma': np.logspace(-7,-2,6)}\n",
    "\n",
    "for param_grid, ax in zip([param_grid_linear, param_grid_one_log, param_grid_range], axes):\n",
    "    grid_search = GridSearchCV(SVC(), param_grid, cv=5)\n",
    "    grid_search.fit(X_train, y_train)\n",
    "    scores = grid_search.cv_results_[\"mean_test_score\"].reshape(6, 6)\n",
    "    \n",
    "    score_image = mglearn.tools.heatmap(scores, xlabel=\"gamma\", xticklabels=param_grid['gamma'],\n",
    "                    ylabel='C', yticklabels=param_grid['C'], cmap='viridis', ax=ax)\n",
    "\n",
    "plt.colorbar(score_image, ax=axes.tolist())"
   ]
  },
  {
   "cell_type": "code",
   "execution_count": null,
   "metadata": {},
   "outputs": [],
   "source": [
    "param_grid = {'max_depth': [2,3,None],\n",
    "              'n_estimators': [500, 700, 1000],\n",
    "              'max_features': [3, 5, 10],\n",
    "              'min_samples_split': [3, 5, 10],\n",
    "              'min_samples_leaf': [3, 5, 10],\n",
    "              'bootstrap': [True, False],\n",
    "              'criterion':[\"gini\", \"entropy\"]\n",
    "             }"
   ]
  },
  {
   "cell_type": "code",
   "execution_count": null,
   "metadata": {},
   "outputs": [],
   "source": [
    "import time\n",
    "start_time = time.time()\n",
    "rf_grid = GridSearchCV(estimator = RandomForestClassifier(random_state=29),\n",
    "                       param_grid = param_grid,\n",
    "                       scoring = 'accuracy',\n",
    "                       cv = 5,\n",
    "                       n_jobs = -1\n",
    "                       )\n",
    "rf_grid.fit(X_train, y_train)\n",
    "print('Training Time: ', time.time() -start_time)"
   ]
  },
  {
   "cell_type": "code",
   "execution_count": null,
   "metadata": {},
   "outputs": [],
   "source": []
  }
 ],
 "metadata": {
  "kernelspec": {
   "display_name": "Python 3",
   "language": "python",
   "name": "python3"
  },
  "language_info": {
   "codemirror_mode": {
    "name": "ipython",
    "version": 3
   },
   "file_extension": ".py",
   "mimetype": "text/x-python",
   "name": "python",
   "nbconvert_exporter": "python",
   "pygments_lexer": "ipython3",
   "version": "3.7.5"
  }
 },
 "nbformat": 4,
 "nbformat_minor": 4
}
